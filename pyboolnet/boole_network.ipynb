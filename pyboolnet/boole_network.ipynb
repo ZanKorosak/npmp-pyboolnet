{
 "cells": [
  {
   "attachments": {},
   "cell_type": "markdown",
   "metadata": {},
   "source": [
    "Example Boolean networks are available on:\n",
    "https://github.com/hklarner/pyboolnet/tree/master/pyboolnet/repository <br>\n",
    "Tutorials available on:\n",
    "https://github.com/hklarner/pyboolnet/tree/master/tutorials <br>\n",
    "PyBoolNet manual:\n",
    "https://pyboolnet.readthedocs.io/en/master/quickstart.html"
   ]
  },
  {
   "cell_type": "code",
   "execution_count": 15,
   "metadata": {},
   "outputs": [],
   "source": [
    "from pyboolnet.repository import get_primes\n",
    "from pyboolnet.model_checking import model_checking\n",
    "from pyboolnet.file_exchange import bnet2primes\n",
    "from pyboolnet.state_transition_graphs import primes2stg\n",
    "from pyboolnet.attractors import compute_attractors_tarjan, compute_attractors, find_attractor_state_by_randomwalk_and_ctl"
   ]
  },
  {
   "cell_type": "code",
   "execution_count": 6,
   "metadata": {},
   "outputs": [],
   "source": [
    "primes = get_primes(\"randomnet_n7k3\")"
   ]
  },
  {
   "cell_type": "code",
   "execution_count": 7,
   "metadata": {},
   "outputs": [],
   "source": [
    "prost_cancer_primes = bnet2primes(\"./data/Montagud2021_Prostate_Cancer.bnet\")"
   ]
  },
  {
   "cell_type": "code",
   "execution_count": null,
   "metadata": {},
   "outputs": [],
   "source": []
  }
 ],
 "metadata": {
  "kernelspec": {
   "display_name": "Python 3",
   "language": "python",
   "name": "python3"
  },
  "language_info": {
   "codemirror_mode": {
    "name": "ipython",
    "version": 3
   },
   "file_extension": ".py",
   "mimetype": "text/x-python",
   "name": "python",
   "nbconvert_exporter": "python",
   "pygments_lexer": "ipython3",
   "version": "3.10.9 (tags/v3.10.9:1dd9be6, Dec  6 2022, 20:01:21) [MSC v.1934 64 bit (AMD64)]"
  },
  "orig_nbformat": 4,
  "vscode": {
   "interpreter": {
    "hash": "0e9127a5c2d8ecebf0d56c783f015ac49e32e9b5ce0ffbd30e1362f9db4475b3"
   }
  }
 },
 "nbformat": 4,
 "nbformat_minor": 2
}
