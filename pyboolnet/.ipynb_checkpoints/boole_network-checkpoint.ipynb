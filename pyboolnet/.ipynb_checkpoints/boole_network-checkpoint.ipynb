{
 "cells": [
  {
   "cell_type": "markdown",
   "metadata": {},
   "source": [
    "Example Boolean networks are available on:\n",
    "https://github.com/hklarner/pyboolnet/tree/master/pyboolnet/repository <br>\n",
    "Tutorials available on:\n",
    "https://github.com/hklarner/pyboolnet/tree/master/tutorials <br>\n",
    "PyBoolNet manual:\n",
    "https://pyboolnet.readthedocs.io/en/master/quickstart.html"
   ]
  },
  {
   "cell_type": "code",
   "execution_count": 1,
   "metadata": {},
   "outputs": [],
   "source": [
    "#prost_cancer_primes = bnet2primes(\"./data/Montagud2021_Prostate_Cancer.bnet\")"
   ]
  },
  {
   "cell_type": "code",
   "execution_count": 1,
   "metadata": {},
   "outputs": [],
   "source": [
    "from pyboolnet.repository import get_primes\n",
    "from pyboolnet.file_exchange import bnet2primes\n",
    "from pyboolnet.interaction_graphs import primes2igraph, igraph2image, local_igraph_of_state, add_style_interactionsigns\n",
    "from pyboolnet.state_space import random_state\n",
    "from pyboolnet.phenotypes import compute_phenotypes, compute_phenotype_diagram, create_phenotypes_piechart\n",
    "from pyboolnet.attractors import compute_attractors\n",
    "import os"
   ]
  },
  {
   "cell_type": "code",
   "execution_count": 2,
   "metadata": {},
   "outputs": [],
   "source": [
    "primes = get_primes(\"randomnet_n7k3\")"
   ]
  },
  {
   "cell_type": "code",
   "execution_count": 3,
   "metadata": {},
   "outputs": [
    {
     "name": "stdout",
     "output_type": "stream",
     "text": [
      "interaction_graph.pdf\n",
      "phenos.json\n"
     ]
    }
   ],
   "source": [
    "images_dir = (r\"C:/Users/Žan/OneDrive/Documents/Faks/Magisterij/NPMP/npmp-pyboolnet/pyboolnet/images\")\n",
    "os.chdir(images_dir)\n",
    "\n",
    "for file in os.listdir(images_dir):\n",
    "    print(file)"
   ]
  },
  {
   "cell_type": "markdown",
   "metadata": {},
   "source": [
    "Creating a logical reprissilator "
   ]
  },
  {
   "cell_type": "code",
   "execution_count": 5,
   "metadata": {},
   "outputs": [
    {
     "name": "stdout",
     "output_type": "stream",
     "text": [
      "DiGraph with 3 nodes and 3 edges\n"
     ]
    }
   ],
   "source": [
    "bnet = \"\"\"\n",
    "    v1,    !v2\n",
    "    v2,    !v3\n",
    "    v3,    !v1\n",
    "\"\"\"\n",
    "primes = bnet2primes(bnet)\n",
    "\n",
    "state = random_state(primes)\n",
    "local_igraph = local_igraph_of_state(primes, state)\n",
    "add_style_interactionsigns(local_igraph)\n",
    "print(local_igraph)"
   ]
  },
  {
   "cell_type": "code",
   "execution_count": 6,
   "metadata": {},
   "outputs": [
    {
     "name": "stdout",
     "output_type": "stream",
     "text": [
      "INFO attractors.completeness(..)\n",
      "INFO yes\n",
      "INFO  working on minimal trapspace 1/1: ---\n",
      "INFO attractors.univocality(..)\n",
      "INFO find_attractor_state_by_randomwalk_and_ctl(..)\n",
      "INFO len(primes)=3, update=asynchronous, length=30, attempts=10\n",
      "INFO trial 0\n",
      "INFO start: 100\n",
      "INFO end: 100\n",
      "INFO created C:\\Users\\AN8840~1\\AppData\\Local\\Temp\\pyboolnet_namt7ufa\n",
      "INFO is attractor state\n",
      "INFO created C:\\Users\\AN8840~1\\AppData\\Local\\Temp\\pyboolnet_xkwpm20z\n",
      "INFO  yes\n",
      "INFO attractors.faithfulness(..)\n",
      "INFO created C:\\Users\\AN8840~1\\AppData\\Local\\Temp\\pyboolnet_xfc2_58e\n",
      "INFO yes\n",
      "INFO attractors.find_attractor_state_by_randomwalk_and_ctl(..)\n",
      "INFO find_attractor_state_by_randomwalk_and_ctl(..)\n",
      "INFO len(primes)=3, update=asynchronous, length=30, attempts=10\n",
      "INFO trial 0\n",
      "INFO start: 010\n",
      "INFO end: 010\n",
      "INFO created C:\\Users\\AN8840~1\\AppData\\Local\\Temp\\pyboolnet_a4x7efyj\n",
      "INFO is attractor state\n",
      "INFO ignored markers (they are not in primes): WOX, MGP\n",
      "INFO created phenos.json\n",
      "INFO created phenos.json\n"
     ]
    }
   ],
   "source": [
    "attractors = compute_attractors(primes, \"asynchronous\")\n",
    "markers = [\"WOX\", \"MGP\"]\n",
    "phenotypes = compute_phenotypes(attractors, markers, fname_json=\"phenos.json\")"
   ]
  },
  {
   "cell_type": "code",
   "execution_count": 7,
   "metadata": {},
   "outputs": [
    {
     "name": "stdout",
     "output_type": "stream",
     "text": [
      "Pheno A\n",
      "\n"
     ]
    }
   ],
   "source": [
    "for pheno in phenotypes[\"phenotypes\"]:\n",
    "    print(pheno[\"name\"])\n",
    "    print(pheno[\"pattern\"])"
   ]
  },
  {
   "cell_type": "code",
   "execution_count": 10,
   "metadata": {},
   "outputs": [
    {
     "ename": "TypeError",
     "evalue": "compute_phenotype_diagram() got an unexpected keyword argument 'shell'",
     "output_type": "error",
     "traceback": [
      "\u001b[1;31m---------------------------------------------------------------------------\u001b[0m",
      "\u001b[1;31mTypeError\u001b[0m                                 Traceback (most recent call last)",
      "Cell \u001b[1;32mIn [10], line 1\u001b[0m\n\u001b[1;32m----> 1\u001b[0m diagram \u001b[38;5;241m=\u001b[39m \u001b[43mcompute_phenotype_diagram\u001b[49m\u001b[43m(\u001b[49m\u001b[43mphenotypes\u001b[49m\u001b[43m,\u001b[49m\u001b[43m \u001b[49m\u001b[43mfname_image\u001b[49m\u001b[38;5;241;43m=\u001b[39;49m\u001b[38;5;124;43m\"\u001b[39;49m\u001b[38;5;124;43m./images/phenos_diagram.pdf\u001b[39;49m\u001b[38;5;124;43m\"\u001b[39;49m\u001b[43m,\u001b[49m\u001b[43m \u001b[49m\u001b[43mshell\u001b[49m\u001b[38;5;241;43m=\u001b[39;49m\u001b[38;5;28;43;01mTrue\u001b[39;49;00m\u001b[43m)\u001b[49m\n",
      "\u001b[1;31mTypeError\u001b[0m: compute_phenotype_diagram() got an unexpected keyword argument 'shell'"
     ]
    }
   ],
   "source": [
    "diagram = compute_phenotype_diagram(phenotypes, fname_image=\"./images/phenos_diagram.pdf\")"
   ]
  },
  {
   "cell_type": "code",
   "execution_count": null,
   "metadata": {},
   "outputs": [],
   "source": []
  }
 ],
 "metadata": {
  "kernelspec": {
   "display_name": "Python 3 (ipykernel)",
   "language": "python",
   "name": "python3"
  },
  "language_info": {
   "codemirror_mode": {
    "name": "ipython",
    "version": 3
   },
   "file_extension": ".py",
   "mimetype": "text/x-python",
   "name": "python",
   "nbconvert_exporter": "python",
   "pygments_lexer": "ipython3",
   "version": "3.10.9"
  },
  "vscode": {
   "interpreter": {
    "hash": "c1451ad92e1e8ca6e88b93f0611cf64d1ae7bb065b8b263af14edf86e6a01c5c"
   }
  }
 },
 "nbformat": 4,
 "nbformat_minor": 2
}
